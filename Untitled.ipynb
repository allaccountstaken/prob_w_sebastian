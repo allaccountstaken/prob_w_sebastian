{
 "cells": [
  {
   "cell_type": "code",
   "execution_count": 7,
   "metadata": {},
   "outputs": [],
   "source": [
    "import pandas as pd\n",
    "import seaborn as sns\n",
    "#df = pd.read_csv(\"nails.csv\")\n",
    "x = -1\n",
    "        # A B C D E F G H I J\n",
    "grid = [[x,x,x,x,x,x,x,x,x,x], #1\n",
    "        [x,x,x,x,x,x,x,x,x,x], #2\n",
    "        [x,x,x,x,x,x,x,x,x,x], #3\n",
    "        [x,x,100,x,x,x,x,x,x,x], #4\n",
    "        [x,x,x,x,x,1,0,x,x,x], #5\n",
    "        [x,75,x,x,x,x,x,1,x,0], #6\n",
    "        [x,x,x,33,x,x,x,x,x,0], #7\n",
    "        [45,77,x,x,x,x,x,3,x,x], #8\n",
    "        [x,x,x,x,x,x,x,x,x,x], #9\n",
    "        [x,x,x,x,x,x,x,x,x,x]] #10\n",
    "\n",
    "\n",
    "final_weight = 0\n",
    "total_distance = 0\n",
    "\n",
    "dictionary = {\"A\":0, \"B\":1, \"C\":2, \"D\":3, \"E\":4, \"F\":5, \"G\":6,\n",
    "              \"H\":7, \"I\":8, \"J\":9}"
   ]
  },
  {
   "cell_type": "code",
   "execution_count": 8,
   "metadata": {},
   "outputs": [
    {
     "name": "stdout",
     "output_type": "stream",
     "text": [
      "Number of nails:  41\n"
     ]
    },
    {
     "data": {
      "image/png": "[encoded data removed]",
      "text/plain": [
       "<Figure size 432x288 with 2 Axes>"
      ]
     },
     "metadata": {
      "needs_background": "light"
     },
     "output_type": "display_data"
    }
   ],
   "source": [
    "def num_nails(letter, number):\n",
    "    try:\n",
    "        y = int(letter)\n",
    "    except ValueError:\n",
    "        y = dictionary[letter]\n",
    "    final_weight = 0\n",
    "    total_distance = 0\n",
    "    for i in range(10):\n",
    "        for j in range(10):\n",
    "            if grid[i][j] != -1:\n",
    "                distance = ((((i - number)**2)+((j-y)**2))**0.5)\n",
    "                total_distance += (1/distance)\n",
    "                weight = (1/distance) * grid[i][j]\n",
    "                final_weight += weight\n",
    "    final = round(final_weight / total_distance)\n",
    "    #print(\"Number of nails:\", final)\n",
    "    return final\n",
    "    \n",
    "heatmap = []\n",
    "for i in range(10):\n",
    "    x = []\n",
    "    for j in range(10):\n",
    "        if grid[i][j] == -1:\n",
    "           res = num_nails(j,i)\n",
    "           x.append(res)\n",
    "        else:\n",
    "            x.append(grid[i][j])\n",
    "    heatmap.append(x)\n",
    "\n",
    "sns.heatmap(heatmap)\n",
    "print(\"Number of nails: \", num_nails(\"D\", 4))         "
   ]
  },
  {
   "cell_type": "code",
   "execution_count": null,
   "metadata": {},
   "outputs": [],
   "source": []
  },
  {
   "cell_type": "code",
   "execution_count": null,
   "metadata": {},
   "outputs": [],
   "source": []
  }
 ],
 "metadata": {
  "kernelspec": {
   "display_name": "Python 3",
   "language": "python",
   "name": "python3"
  },
  "language_info": {
   "codemirror_mode": {
    "name": "ipython",
    "version": 3
   },
   "file_extension": ".py",
   "mimetype": "text/x-python",
   "name": "python",
   "nbconvert_exporter": "python",
   "pygments_lexer": "ipython3",
   "version": "3.8.3"
  }
 },
 "nbformat": 4,
 "nbformat_minor": 4
}
