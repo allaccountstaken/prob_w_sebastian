{
 "cells": [
  {
   "cell_type": "markdown",
   "metadata": {
    "id": "_Gvm1BZXjuBx"
   },
   "source": [
    "Lambda School Data Science\n",
    "\n",
    "---"
   ]
  },
  {
   "cell_type": "markdown",
   "metadata": {
    "id": "7IXUfiQ2UKj6"
   },
   "source": [
    "# Logistic Regression\n",
    "\n",
    "\n",
    "## Assignment 🌯\n",
    "\n",
    "Using a [**dataset of 400+ burrito reviews**](https://srcole.github.io/100burritos/), build a model that predicts whether a burrito is rated `'Great'`?\n",
    "\n",
    "## What We Want\n",
    "\n",
    "*Associate Instructor* is a teaching position where you will work closely students — delivering curriculum, and leading question and answer sessions. The purpose of this assignment is to give us an idea of how you approach data science problems and whether you can explain that approach to someone who does not yet have your level of expertise. Given this, we are less interested you building a \"perfect\" model and more focused on how you use this assignment to teach important concepts to a data science student.\n",
    "\n",
    "## What You Need to Do\n",
    "\n",
    "- [ ] Make a copy of this notebook to work on - you can download if you have a local Jupyter setup, or click `File > Save a copy in Drive` to copy and work on with Google Colab\n",
    "- [ ] Import the burrito `csv` file into a `DataFrame`. Your target will be the `'Great'` column.\n",
    "- [ ] Conduct exploratory data analysis (EDA) to determine how you should clean the data for your pipeline.\n",
    "- [ ] Clean your data. (Note: You are not required to use all columns in your model, but justify your decisions based on your EDA.)\n",
    "- [ ] Do train/validate/test split. Train on reviews from 2016 & earlier. Validate on 2017. Test on 2018 & later.\n",
    "- [ ] Determine what the baseline accuracy is for a naïve classification model.\n",
    "- [ ] Create a `scikit-learn` pipeline with the following components:\n",
    "  - A one hot encoder for categorical features.\n",
    "  - A scaler.\n",
    "  - A logistic regressor.\n",
    "- [ ] Train your model using the training data.\n",
    "- [ ] Create a visualization showing your model's coefficients.\n",
    "- [ ] Get your model's validation accuracy (multiple times if you try multiple iterations).\n",
    "- [ ] Get your model's test accuracy (one time, at the end).\n",
    "\n",
    "---"
   ]
  },
  {
   "cell_type": "markdown",
   "metadata": {
    "id": "UhHu6AF7ML3p"
   },
   "source": [
    "### Import the burrito `csv` file"
   ]
  },
  {
   "cell_type": "code",
   "execution_count": 1366,
   "metadata": {
    "id": "stdgqGAYjuB3"
   },
   "outputs": [],
   "source": [
    "import pandas as pd\n",
    "df = pd.read_csv('https://drive.google.com/uc?export=download&id=1cctPq1sYeD6Y6mGg5Lpl-GLDJBwtdihg')"
   ]
  },
  {
   "cell_type": "markdown",
   "metadata": {},
   "source": [
    "Let's check the shape of what we were given."
   ]
  },
  {
   "cell_type": "code",
   "execution_count": 1367,
   "metadata": {},
   "outputs": [
    {
     "data": {
      "text/plain": [
       "(421, 65)"
      ]
     },
     "execution_count": 1367,
     "metadata": {},
     "output_type": "execute_result"
    }
   ],
   "source": [
    "df.shape"
   ]
  },
  {
   "cell_type": "markdown",
   "metadata": {},
   "source": [
    "Use Pandas built-in functionality to describe the dataset."
   ]
  },
  {
   "cell_type": "code",
   "execution_count": 1368,
   "metadata": {},
   "outputs": [
    {
     "data": {
      "text/html": [
       "<div>\n",
       "<style scoped>\n",
       "    .dataframe tbody tr th:only-of-type {\n",
       "        vertical-align: middle;\n",
       "    }\n",
       "\n",
       "    .dataframe tbody tr th {\n",
       "        vertical-align: top;\n",
       "    }\n",
       "\n",
       "    .dataframe thead th {\n",
       "        text-align: right;\n",
       "    }\n",
       "</style>\n",
       "<table border=\"1\" class=\"dataframe\">\n",
       "  <thead>\n",
       "    <tr style=\"text-align: right;\">\n",
       "      <th></th>\n",
       "      <th>Yelp</th>\n",
       "      <th>Google</th>\n",
       "      <th>Cost</th>\n",
       "      <th>Hunger</th>\n",
       "      <th>Mass (g)</th>\n",
       "      <th>Density (g/mL)</th>\n",
       "      <th>Length</th>\n",
       "      <th>Circum</th>\n",
       "      <th>Volume</th>\n",
       "      <th>Tortilla</th>\n",
       "      <th>Temp</th>\n",
       "      <th>Meat</th>\n",
       "      <th>Fillings</th>\n",
       "      <th>Meat:filling</th>\n",
       "      <th>Uniformity</th>\n",
       "      <th>Salsa</th>\n",
       "      <th>Synergy</th>\n",
       "      <th>Wrap</th>\n",
       "      <th>Queso</th>\n",
       "    </tr>\n",
       "  </thead>\n",
       "  <tbody>\n",
       "    <tr>\n",
       "      <th>count</th>\n",
       "      <td>87.000000</td>\n",
       "      <td>87.000000</td>\n",
       "      <td>414.000000</td>\n",
       "      <td>418.000000</td>\n",
       "      <td>22.000000</td>\n",
       "      <td>22.000000</td>\n",
       "      <td>283.000000</td>\n",
       "      <td>281.000000</td>\n",
       "      <td>281.000000</td>\n",
       "      <td>421.000000</td>\n",
       "      <td>401.000000</td>\n",
       "      <td>407.000000</td>\n",
       "      <td>418.000000</td>\n",
       "      <td>412.000000</td>\n",
       "      <td>419.000000</td>\n",
       "      <td>396.000000</td>\n",
       "      <td>419.000000</td>\n",
       "      <td>418.000000</td>\n",
       "      <td>0.0</td>\n",
       "    </tr>\n",
       "    <tr>\n",
       "      <th>mean</th>\n",
       "      <td>3.887356</td>\n",
       "      <td>4.167816</td>\n",
       "      <td>7.067343</td>\n",
       "      <td>3.495335</td>\n",
       "      <td>546.181818</td>\n",
       "      <td>0.675277</td>\n",
       "      <td>20.038233</td>\n",
       "      <td>22.135765</td>\n",
       "      <td>0.786477</td>\n",
       "      <td>3.519477</td>\n",
       "      <td>3.783042</td>\n",
       "      <td>3.620393</td>\n",
       "      <td>3.539833</td>\n",
       "      <td>3.586481</td>\n",
       "      <td>3.428998</td>\n",
       "      <td>3.371970</td>\n",
       "      <td>3.586993</td>\n",
       "      <td>3.979904</td>\n",
       "      <td>NaN</td>\n",
       "    </tr>\n",
       "    <tr>\n",
       "      <th>std</th>\n",
       "      <td>0.475396</td>\n",
       "      <td>0.373698</td>\n",
       "      <td>1.506742</td>\n",
       "      <td>0.812069</td>\n",
       "      <td>144.445619</td>\n",
       "      <td>0.080468</td>\n",
       "      <td>2.083518</td>\n",
       "      <td>1.779408</td>\n",
       "      <td>0.152531</td>\n",
       "      <td>0.794438</td>\n",
       "      <td>0.980338</td>\n",
       "      <td>0.829254</td>\n",
       "      <td>0.799549</td>\n",
       "      <td>0.997057</td>\n",
       "      <td>1.068794</td>\n",
       "      <td>0.924037</td>\n",
       "      <td>0.886807</td>\n",
       "      <td>1.118185</td>\n",
       "      <td>NaN</td>\n",
       "    </tr>\n",
       "    <tr>\n",
       "      <th>min</th>\n",
       "      <td>2.500000</td>\n",
       "      <td>2.900000</td>\n",
       "      <td>2.990000</td>\n",
       "      <td>0.500000</td>\n",
       "      <td>350.000000</td>\n",
       "      <td>0.560000</td>\n",
       "      <td>15.000000</td>\n",
       "      <td>17.000000</td>\n",
       "      <td>0.400000</td>\n",
       "      <td>1.000000</td>\n",
       "      <td>1.000000</td>\n",
       "      <td>1.000000</td>\n",
       "      <td>1.000000</td>\n",
       "      <td>0.500000</td>\n",
       "      <td>0.000000</td>\n",
       "      <td>0.000000</td>\n",
       "      <td>1.000000</td>\n",
       "      <td>0.000000</td>\n",
       "      <td>NaN</td>\n",
       "    </tr>\n",
       "    <tr>\n",
       "      <th>25%</th>\n",
       "      <td>3.500000</td>\n",
       "      <td>4.000000</td>\n",
       "      <td>6.250000</td>\n",
       "      <td>3.000000</td>\n",
       "      <td>450.000000</td>\n",
       "      <td>0.619485</td>\n",
       "      <td>18.500000</td>\n",
       "      <td>21.000000</td>\n",
       "      <td>0.680000</td>\n",
       "      <td>3.000000</td>\n",
       "      <td>3.000000</td>\n",
       "      <td>3.000000</td>\n",
       "      <td>3.000000</td>\n",
       "      <td>3.000000</td>\n",
       "      <td>2.600000</td>\n",
       "      <td>3.000000</td>\n",
       "      <td>3.000000</td>\n",
       "      <td>3.500000</td>\n",
       "      <td>NaN</td>\n",
       "    </tr>\n",
       "    <tr>\n",
       "      <th>50%</th>\n",
       "      <td>4.000000</td>\n",
       "      <td>4.200000</td>\n",
       "      <td>6.990000</td>\n",
       "      <td>3.500000</td>\n",
       "      <td>540.000000</td>\n",
       "      <td>0.658099</td>\n",
       "      <td>20.000000</td>\n",
       "      <td>22.000000</td>\n",
       "      <td>0.770000</td>\n",
       "      <td>3.500000</td>\n",
       "      <td>4.000000</td>\n",
       "      <td>3.800000</td>\n",
       "      <td>3.500000</td>\n",
       "      <td>4.000000</td>\n",
       "      <td>3.500000</td>\n",
       "      <td>3.500000</td>\n",
       "      <td>3.800000</td>\n",
       "      <td>4.000000</td>\n",
       "      <td>NaN</td>\n",
       "    </tr>\n",
       "    <tr>\n",
       "      <th>75%</th>\n",
       "      <td>4.000000</td>\n",
       "      <td>4.400000</td>\n",
       "      <td>7.880000</td>\n",
       "      <td>4.000000</td>\n",
       "      <td>595.000000</td>\n",
       "      <td>0.721726</td>\n",
       "      <td>21.500000</td>\n",
       "      <td>23.000000</td>\n",
       "      <td>0.880000</td>\n",
       "      <td>4.000000</td>\n",
       "      <td>4.500000</td>\n",
       "      <td>4.000000</td>\n",
       "      <td>4.000000</td>\n",
       "      <td>4.000000</td>\n",
       "      <td>4.000000</td>\n",
       "      <td>4.000000</td>\n",
       "      <td>4.000000</td>\n",
       "      <td>5.000000</td>\n",
       "      <td>NaN</td>\n",
       "    </tr>\n",
       "    <tr>\n",
       "      <th>max</th>\n",
       "      <td>4.500000</td>\n",
       "      <td>5.000000</td>\n",
       "      <td>25.000000</td>\n",
       "      <td>5.000000</td>\n",
       "      <td>925.000000</td>\n",
       "      <td>0.865672</td>\n",
       "      <td>26.000000</td>\n",
       "      <td>29.000000</td>\n",
       "      <td>1.540000</td>\n",
       "      <td>5.000000</td>\n",
       "      <td>5.000000</td>\n",
       "      <td>5.000000</td>\n",
       "      <td>5.000000</td>\n",
       "      <td>5.000000</td>\n",
       "      <td>5.000000</td>\n",
       "      <td>5.000000</td>\n",
       "      <td>5.000000</td>\n",
       "      <td>5.000000</td>\n",
       "      <td>NaN</td>\n",
       "    </tr>\n",
       "  </tbody>\n",
       "</table>\n",
       "</div>"
      ],
      "text/plain": [
       "            Yelp     Google        Cost      Hunger    Mass (g)  \\\n",
       "count  87.000000  87.000000  414.000000  418.000000   22.000000   \n",
       "mean    3.887356   4.167816    7.067343    3.495335  546.181818   \n",
       "std     0.475396   0.373698    1.506742    0.812069  144.445619   \n",
       "min     2.500000   2.900000    2.990000    0.500000  350.000000   \n",
       "25%     3.500000   4.000000    6.250000    3.000000  450.000000   \n",
       "50%     4.000000   4.200000    6.990000    3.500000  540.000000   \n",
       "75%     4.000000   4.400000    7.880000    4.000000  595.000000   \n",
       "max     4.500000   5.000000   25.000000    5.000000  925.000000   \n",
       "\n",
       "       Density (g/mL)      Length      Circum      Volume    Tortilla  \\\n",
       "count       22.000000  283.000000  281.000000  281.000000  421.000000   \n",
       "mean         0.675277   20.038233   22.135765    0.786477    3.519477   \n",
       "std          0.080468    2.083518    1.779408    0.152531    0.794438   \n",
       "min          0.560000   15.000000   17.000000    0.400000    1.000000   \n",
       "25%          0.619485   18.500000   21.000000    0.680000    3.000000   \n",
       "50%          0.658099   20.000000   22.000000    0.770000    3.500000   \n",
       "75%          0.721726   21.500000   23.000000    0.880000    4.000000   \n",
       "max          0.865672   26.000000   29.000000    1.540000    5.000000   \n",
       "\n",
       "             Temp        Meat    Fillings  Meat:filling  Uniformity  \\\n",
       "count  401.000000  407.000000  418.000000    412.000000  419.000000   \n",
       "mean     3.783042    3.620393    3.539833      3.586481    3.428998   \n",
       "std      0.980338    0.829254    0.799549      0.997057    1.068794   \n",
       "min      1.000000    1.000000    1.000000      0.500000    0.000000   \n",
       "25%      3.000000    3.000000    3.000000      3.000000    2.600000   \n",
       "50%      4.000000    3.800000    3.500000      4.000000    3.500000   \n",
       "75%      4.500000    4.000000    4.000000      4.000000    4.000000   \n",
       "max      5.000000    5.000000    5.000000      5.000000    5.000000   \n",
       "\n",
       "            Salsa     Synergy        Wrap  Queso  \n",
       "count  396.000000  419.000000  418.000000    0.0  \n",
       "mean     3.371970    3.586993    3.979904    NaN  \n",
       "std      0.924037    0.886807    1.118185    NaN  \n",
       "min      0.000000    1.000000    0.000000    NaN  \n",
       "25%      3.000000    3.000000    3.500000    NaN  \n",
       "50%      3.500000    3.800000    4.000000    NaN  \n",
       "75%      4.000000    4.000000    5.000000    NaN  \n",
       "max      5.000000    5.000000    5.000000    NaN  "
      ]
     },
     "execution_count": 1368,
     "metadata": {},
     "output_type": "execute_result"
    }
   ],
   "source": [
    "df.describe()"
   ]
  },
  {
   "cell_type": "markdown",
   "metadata": {},
   "source": [
    "Zoom into the actual columns and rows with the .head() method."
   ]
  },
  {
   "cell_type": "code",
   "execution_count": 1369,
   "metadata": {},
   "outputs": [
    {
     "data": {
      "text/html": [
       "<div>\n",
       "<style scoped>\n",
       "    .dataframe tbody tr th:only-of-type {\n",
       "        vertical-align: middle;\n",
       "    }\n",
       "\n",
       "    .dataframe tbody tr th {\n",
       "        vertical-align: top;\n",
       "    }\n",
       "\n",
       "    .dataframe thead th {\n",
       "        text-align: right;\n",
       "    }\n",
       "</style>\n",
       "<table border=\"1\" class=\"dataframe\">\n",
       "  <thead>\n",
       "    <tr style=\"text-align: right;\">\n",
       "      <th></th>\n",
       "      <th>Location</th>\n",
       "      <th>Burrito</th>\n",
       "      <th>Date</th>\n",
       "      <th>Neighborhood</th>\n",
       "      <th>Address</th>\n",
       "      <th>URL</th>\n",
       "      <th>Yelp</th>\n",
       "      <th>Google</th>\n",
       "      <th>Chips</th>\n",
       "      <th>Cost</th>\n",
       "      <th>...</th>\n",
       "      <th>Lobster</th>\n",
       "      <th>Queso</th>\n",
       "      <th>Egg</th>\n",
       "      <th>Mushroom</th>\n",
       "      <th>Bacon</th>\n",
       "      <th>Sushi</th>\n",
       "      <th>Avocado</th>\n",
       "      <th>Corn</th>\n",
       "      <th>Zucchini</th>\n",
       "      <th>Great</th>\n",
       "    </tr>\n",
       "  </thead>\n",
       "  <tbody>\n",
       "    <tr>\n",
       "      <th>0</th>\n",
       "      <td>Donato's taco shop</td>\n",
       "      <td>California</td>\n",
       "      <td>1/18/2016</td>\n",
       "      <td>Miramar</td>\n",
       "      <td>6780 Miramar Rd</td>\n",
       "      <td>http://donatostacoshop.net/</td>\n",
       "      <td>3.5</td>\n",
       "      <td>4.2</td>\n",
       "      <td>NaN</td>\n",
       "      <td>6.49</td>\n",
       "      <td>...</td>\n",
       "      <td>NaN</td>\n",
       "      <td>NaN</td>\n",
       "      <td>NaN</td>\n",
       "      <td>NaN</td>\n",
       "      <td>NaN</td>\n",
       "      <td>NaN</td>\n",
       "      <td>NaN</td>\n",
       "      <td>NaN</td>\n",
       "      <td>NaN</td>\n",
       "      <td>False</td>\n",
       "    </tr>\n",
       "    <tr>\n",
       "      <th>1</th>\n",
       "      <td>Oscar's Mexican food</td>\n",
       "      <td>California</td>\n",
       "      <td>1/24/2016</td>\n",
       "      <td>San Marcos</td>\n",
       "      <td>225 S Rancho Santa Fe Rd</td>\n",
       "      <td>http://www.yelp.com/biz/oscars-mexican-food-sa...</td>\n",
       "      <td>3.5</td>\n",
       "      <td>3.3</td>\n",
       "      <td>NaN</td>\n",
       "      <td>5.45</td>\n",
       "      <td>...</td>\n",
       "      <td>NaN</td>\n",
       "      <td>NaN</td>\n",
       "      <td>NaN</td>\n",
       "      <td>NaN</td>\n",
       "      <td>NaN</td>\n",
       "      <td>NaN</td>\n",
       "      <td>NaN</td>\n",
       "      <td>NaN</td>\n",
       "      <td>NaN</td>\n",
       "      <td>False</td>\n",
       "    </tr>\n",
       "  </tbody>\n",
       "</table>\n",
       "<p>2 rows × 65 columns</p>\n",
       "</div>"
      ],
      "text/plain": [
       "               Location      Burrito       Date Neighborhood  \\\n",
       "0    Donato's taco shop  California   1/18/2016      Miramar   \n",
       "1  Oscar's Mexican food  California   1/24/2016   San Marcos   \n",
       "\n",
       "                    Address  \\\n",
       "0           6780 Miramar Rd   \n",
       "1  225 S Rancho Santa Fe Rd   \n",
       "\n",
       "                                                 URL  Yelp  Google Chips  \\\n",
       "0                        http://donatostacoshop.net/   3.5     4.2   NaN   \n",
       "1  http://www.yelp.com/biz/oscars-mexican-food-sa...   3.5     3.3   NaN   \n",
       "\n",
       "   Cost  ...  Lobster  Queso  Egg  Mushroom  Bacon  Sushi  Avocado  Corn  \\\n",
       "0  6.49  ...      NaN    NaN  NaN       NaN    NaN    NaN      NaN   NaN   \n",
       "1  5.45  ...      NaN    NaN  NaN       NaN    NaN    NaN      NaN   NaN   \n",
       "\n",
       "   Zucchini  Great  \n",
       "0       NaN  False  \n",
       "1       NaN  False  \n",
       "\n",
       "[2 rows x 65 columns]"
      ]
     },
     "execution_count": 1369,
     "metadata": {},
     "output_type": "execute_result"
    }
   ],
   "source": [
    "df.head(2)"
   ]
  },
  {
   "cell_type": "markdown",
   "metadata": {},
   "source": [
    "Use .info() method to inspect the null values and the data types. Wow, that's a lot of columns!"
   ]
  },
  {
   "cell_type": "code",
   "execution_count": 1074,
   "metadata": {},
   "outputs": [
    {
     "name": "stdout",
     "output_type": "stream",
     "text": [
      "<class 'pandas.core.frame.DataFrame'>\n",
      "RangeIndex: 421 entries, 0 to 420\n",
      "Data columns (total 65 columns):\n",
      " #   Column          Non-Null Count  Dtype  \n",
      "---  ------          --------------  -----  \n",
      " 0   Location        421 non-null    object \n",
      " 1   Burrito         421 non-null    object \n",
      " 2   Date            421 non-null    object \n",
      " 3   Neighborhood    92 non-null     object \n",
      " 4   Address         88 non-null     object \n",
      " 5   URL             87 non-null     object \n",
      " 6   Yelp            87 non-null     float64\n",
      " 7   Google          87 non-null     float64\n",
      " 8   Chips           26 non-null     object \n",
      " 9   Cost            414 non-null    float64\n",
      " 10  Hunger          418 non-null    float64\n",
      " 11  Mass (g)        22 non-null     float64\n",
      " 12  Density (g/mL)  22 non-null     float64\n",
      " 13  Length          283 non-null    float64\n",
      " 14  Circum          281 non-null    float64\n",
      " 15  Volume          281 non-null    float64\n",
      " 16  Tortilla        421 non-null    float64\n",
      " 17  Temp            401 non-null    float64\n",
      " 18  Meat            407 non-null    float64\n",
      " 19  Fillings        418 non-null    float64\n",
      " 20  Meat:filling    412 non-null    float64\n",
      " 21  Uniformity      419 non-null    float64\n",
      " 22  Salsa           396 non-null    float64\n",
      " 23  Synergy         419 non-null    float64\n",
      " 24  Wrap            418 non-null    float64\n",
      " 25  Reviewer        420 non-null    object \n",
      " 26  Notes           146 non-null    object \n",
      " 27  Unreliable      33 non-null     object \n",
      " 28  NonSD           7 non-null      object \n",
      " 29  Beef            179 non-null    object \n",
      " 30  Pico            158 non-null    object \n",
      " 31  Guac            154 non-null    object \n",
      " 32  Cheese          159 non-null    object \n",
      " 33  Fries           127 non-null    object \n",
      " 34  Sour cream      92 non-null     object \n",
      " 35  Pork            51 non-null     object \n",
      " 36  Chicken         21 non-null     object \n",
      " 37  Shrimp          21 non-null     object \n",
      " 38  Fish            6 non-null      object \n",
      " 39  Rice            36 non-null     object \n",
      " 40  Beans           35 non-null     object \n",
      " 41  Lettuce         11 non-null     object \n",
      " 42  Tomato          7 non-null      object \n",
      " 43  Bell peper      7 non-null      object \n",
      " 44  Carrots         1 non-null      object \n",
      " 45  Cabbage         8 non-null      object \n",
      " 46  Sauce           38 non-null     object \n",
      " 47  Salsa.1         7 non-null      object \n",
      " 48  Cilantro        15 non-null     object \n",
      " 49  Onion           17 non-null     object \n",
      " 50  Taquito         4 non-null      object \n",
      " 51  Pineapple       7 non-null      object \n",
      " 52  Ham             2 non-null      object \n",
      " 53  Chile relleno   4 non-null      object \n",
      " 54  Nopales         4 non-null      object \n",
      " 55  Lobster         1 non-null      object \n",
      " 56  Queso           0 non-null      float64\n",
      " 57  Egg             5 non-null      object \n",
      " 58  Mushroom        3 non-null      object \n",
      " 59  Bacon           3 non-null      object \n",
      " 60  Sushi           2 non-null      object \n",
      " 61  Avocado         13 non-null     object \n",
      " 62  Corn            3 non-null      object \n",
      " 63  Zucchini        1 non-null      object \n",
      " 64  Great           421 non-null    bool   \n",
      "dtypes: bool(1), float64(19), object(45)\n",
      "memory usage: 211.0+ KB\n"
     ]
    }
   ],
   "source": [
    "df.info()"
   ]
  },
  {
   "cell_type": "markdown",
   "metadata": {},
   "source": [
    "Focus on the missing values because ML algorithms usually do not like missing data."
   ]
  },
  {
   "cell_type": "code",
   "execution_count": 1376,
   "metadata": {},
   "outputs": [
    {
     "data": {
      "text/plain": [
       "Queso       421\n",
       "Lobster     420\n",
       "Carrots     420\n",
       "Zucchini    420\n",
       "Sushi       419\n",
       "           ... \n",
       "Burrito       0\n",
       "Date          0\n",
       "Great         0\n",
       "Tortilla      0\n",
       "Location      0\n",
       "Length: 65, dtype: int64"
      ]
     },
     "execution_count": 1376,
     "metadata": {},
     "output_type": "execute_result"
    }
   ],
   "source": [
    "df.isnull().sum().sort_values(ascending=False)"
   ]
  },
  {
   "cell_type": "markdown",
   "metadata": {},
   "source": [
    "Regrettably, some features are just not supported by a meaningful number of observations."
   ]
  },
  {
   "cell_type": "code",
   "execution_count": 1377,
   "metadata": {},
   "outputs": [],
   "source": [
    "observations_to_drop = ['Queso', 'Carrots', 'Ham', 'Lobster', 'Sushi', 'Corn', 'Zucchini', 'Bacon', 'Mushroom' ]\n",
    "df.drop(observations_to_drop, axis=1, inplace=True)"
   ]
  },
  {
   "cell_type": "markdown",
   "metadata": {
    "id": "4km-WYWpMoYw"
   },
   "source": [
    "### Conduct exploratory data analysis (EDA)"
   ]
  },
  {
   "cell_type": "markdown",
   "metadata": {},
   "source": [
    "Get the column names again."
   ]
  },
  {
   "cell_type": "code",
   "execution_count": 1378,
   "metadata": {},
   "outputs": [
    {
     "data": {
      "text/plain": [
       "Index(['Location', 'Burrito', 'Date', 'Neighborhood', 'Address', 'URL', 'Yelp',\n",
       "       'Google', 'Chips', 'Cost', 'Hunger', 'Mass (g)', 'Density (g/mL)',\n",
       "       'Length', 'Circum', 'Volume', 'Tortilla', 'Temp', 'Meat', 'Fillings',\n",
       "       'Meat:filling', 'Uniformity', 'Salsa', 'Synergy', 'Wrap', 'Reviewer',\n",
       "       'Notes', 'Unreliable', 'NonSD', 'Beef', 'Pico', 'Guac', 'Cheese',\n",
       "       'Fries', 'Sour cream', 'Pork', 'Chicken', 'Shrimp', 'Fish', 'Rice',\n",
       "       'Beans', 'Lettuce', 'Tomato', 'Bell peper', 'Cabbage', 'Sauce',\n",
       "       'Salsa.1', 'Cilantro', 'Onion', 'Taquito', 'Pineapple', 'Chile relleno',\n",
       "       'Nopales', 'Egg', 'Avocado', 'Great'],\n",
       "      dtype='object')"
      ]
     },
     "execution_count": 1378,
     "metadata": {},
     "output_type": "execute_result"
    }
   ],
   "source": [
    "df.columns"
   ]
  },
  {
   "cell_type": "markdown",
   "metadata": {},
   "source": [
    "First, check if there are any missing values in the target column, `'Great'`. If they are, we can't use these instances for our classification task."
   ]
  },
  {
   "cell_type": "code",
   "execution_count": 1077,
   "metadata": {},
   "outputs": [
    {
     "data": {
      "text/plain": [
       "0"
      ]
     },
     "execution_count": 1077,
     "metadata": {},
     "output_type": "execute_result"
    }
   ],
   "source": [
    "df.Great.isnull().sum()"
   ]
  },
  {
   "cell_type": "markdown",
   "metadata": {},
   "source": [
    "Check if the samples are balanced; hopefully we have close to 50/50 split of good and not so good burritos."
   ]
  },
  {
   "cell_type": "code",
   "execution_count": 1379,
   "metadata": {},
   "outputs": [],
   "source": [
    "df.Great.replace({False: 0, True: 1}, inplace=True)"
   ]
  },
  {
   "cell_type": "markdown",
   "metadata": {},
   "source": [
    "Visual representation of the target column: 1 for `'True'` and 0 for `'False'`, see the plot below."
   ]
  },
  {
   "cell_type": "code",
   "execution_count": 1079,
   "metadata": {},
   "outputs": [
    {
     "data": {
      "image/png": "[encoded data removed]",
      "text/plain": [
       "<Figure size 864x504 with 1 Axes>"
      ]
     },
     "metadata": {},
     "output_type": "display_data"
    }
   ],
   "source": [
    "import seaborn as sns\n",
    "import matplotlib\n",
    "import matplotlib.pyplot as plt\n",
    "\n",
    "matplotlib.style.use('ggplot')\n",
    "sns.set(rc={'figure.figsize':(18, 14)})\n",
    "%matplotlib inline\n",
    "\n",
    "df.groupby(['Great'])['Great'].count().plot(kind='pie')\n",
    "plt.gcf().set_size_inches(12, 7)\n",
    "plt.show()"
   ]
  },
  {
   "cell_type": "markdown",
   "metadata": {},
   "source": [
    "Some data are categorical as shown in the list below:"
   ]
  },
  {
   "cell_type": "code",
   "execution_count": 1380,
   "metadata": {},
   "outputs": [],
   "source": [
    "categorical = ['Location','Burrito', 'Neighborhood', 'Address']"
   ]
  },
  {
   "cell_type": "markdown",
   "metadata": {},
   "source": [
    "How many observations are missing information about neighborhoods?"
   ]
  },
  {
   "cell_type": "code",
   "execution_count": 1381,
   "metadata": {},
   "outputs": [
    {
     "data": {
      "text/plain": [
       "329"
      ]
     },
     "execution_count": 1381,
     "metadata": {},
     "output_type": "execute_result"
    }
   ],
   "source": [
    "df[categorical[2]].isnull().sum()"
   ]
  },
  {
   "cell_type": "markdown",
   "metadata": {},
   "source": [
    "If no information was given about the neighborhood of burrito origin, we will code these instances as `'Other Neighborhood'` for presentation purposes."
   ]
  },
  {
   "cell_type": "code",
   "execution_count": 1382,
   "metadata": {},
   "outputs": [],
   "source": [
    "df[categorical[2]] = df[categorical[2]].fillna('Other Neighborhood')"
   ]
  },
  {
   "cell_type": "markdown",
   "metadata": {},
   "source": [
    "Let's take a look at the `Neighborhood` category now: what are the `Costs` in different neighborhoods?"
   ]
  },
  {
   "cell_type": "code",
   "execution_count": 1383,
   "metadata": {},
   "outputs": [
    {
     "data": {
      "image/png": "[encoded data removed]",
      "text/plain": [
       "<Figure size 864x504 with 1 Axes>"
      ]
     },
     "metadata": {
      "needs_background": "light"
     },
     "output_type": "display_data"
    }
   ],
   "source": [
    "sns.stripplot(y='Neighborhood', x='Cost', data=df, dodge=True, palette='viridis')\n",
    "plt.title(\"Burrito cost by Neighborhood category\", fontsize=12)\n",
    "plt.gcf().set_size_inches(12, 7)"
   ]
  },
  {
   "cell_type": "markdown",
   "metadata": {},
   "source": [
    "Note, other features are nominal and coded as 'X' or 'x'; some features are ordinal like ratings, and others are measured on an interval scale. Select respective feature names in the following lists: `nominal`, `ordinal`, and `interval`.\n",
    "\n",
    "Let's do EDA on nominal features first. What the counts?"
   ]
  },
  {
   "cell_type": "code",
   "execution_count": 1384,
   "metadata": {},
   "outputs": [
    {
     "data": {
      "image/png": "[encoded data removed]",
      "text/plain": [
       "<Figure size 864x504 with 1 Axes>"
      ]
     },
     "metadata": {
      "needs_background": "light"
     },
     "output_type": "display_data"
    }
   ],
   "source": [
    "nominal = ['Chips','Beef', 'Pico', 'Guac', 'Cheese','Fries', 'Sour cream', 'Pork', 'Chicken', \n",
    "           'Shrimp', 'Fish', 'Rice','Beans', 'Lettuce', 'Tomato', 'Bell peper', 'Cabbage',\n",
    "           'Sauce', 'Salsa.1', 'Cilantro', 'Onion', 'Taquito', 'Pineapple','Chile relleno', \n",
    "           'Nopales', 'Egg', 'Avocado']\n",
    "\n",
    "df[nominal].count().plot(kind='barh')\n",
    "plt.gcf().set_size_inches(12, 7)\n",
    "plt.show()"
   ]
  },
  {
   "cell_type": "markdown",
   "metadata": {},
   "source": [
    "ML algorithms really like to work with numbers. Let's replace Xs with 0s and 1s."
   ]
  },
  {
   "cell_type": "code",
   "execution_count": 1385,
   "metadata": {},
   "outputs": [],
   "source": [
    "df[nominal] = df[nominal].replace({'No': 0, 'Yes': 1, 'x': 1, 'X':1})\n",
    "df[nominal] = df[nominal].fillna(0)"
   ]
  },
  {
   "cell_type": "markdown",
   "metadata": {},
   "source": [
    "Now, check the features measured on an ordinary scale (i.e. ratings), expected values range from 0 to 5. If everything is as expected, we can do some meaningful descriptive statistics, for example box plot, to see the outliers and general trends:"
   ]
  },
  {
   "cell_type": "code",
   "execution_count": 1386,
   "metadata": {},
   "outputs": [
    {
     "data": {
      "image/png": "[encoded data removed]",
      "text/plain": [
       "<Figure size 864x504 with 1 Axes>"
      ]
     },
     "metadata": {
      "needs_background": "light"
     },
     "output_type": "display_data"
    }
   ],
   "source": [
    "ordinal = ['Yelp', 'Google', 'Hunger', 'Tortilla', \n",
    "           'Temp', 'Meat', 'Fillings', 'Meat:filling', \n",
    "           'Uniformity', 'Salsa', 'Synergy', 'Wrap']\n",
    "\n",
    "df[ordinal].plot(kind=\"box\", vert=False, sym='r+')\n",
    "plt.gcf().set_size_inches(12, 7)\n",
    "plt.show()"
   ]
  },
  {
   "cell_type": "markdown",
   "metadata": {},
   "source": [
    "Note, several continuous variables are measured on an interval scale. Correlations are available for this data type."
   ]
  },
  {
   "cell_type": "code",
   "execution_count": 1387,
   "metadata": {},
   "outputs": [
    {
     "data": {
      "image/png": "[encoded data removed]",
      "text/plain": [
       "<Figure size 864x504 with 2 Axes>"
      ]
     },
     "metadata": {
      "needs_background": "light"
     },
     "output_type": "display_data"
    }
   ],
   "source": [
    "interval = ['Cost', 'Mass (g)', 'Density (g/mL)', 'Length', 'Circum', 'Volume']\n",
    "\n",
    "sns.heatmap(df[interval].corr(), annot=True)\n",
    "plt.gcf().set_size_inches(12, 7)\n",
    "plt.show()"
   ]
  },
  {
   "cell_type": "markdown",
   "metadata": {},
   "source": [
    "So far all looks good. We can start creating basic models. For example, is it possible that product's price and consumer's demand can explain Greatness? Let's compare two possibly strong explanatory variables: `'Cost'` and `'Hunger'`."
   ]
  },
  {
   "cell_type": "code",
   "execution_count": 1388,
   "metadata": {},
   "outputs": [
    {
     "data": {
      "image/png": "[encoded data removed]",
      "text/plain": [
       "<Figure size 432x288 with 1 Axes>"
      ]
     },
     "metadata": {
      "needs_background": "light"
     },
     "output_type": "display_data"
    }
   ],
   "source": [
    "ax = df[interval[0]].plot(kind='kde')\n",
    "ax.set(xlabel=continuous[0])\n",
    "plt.show()\n"
   ]
  },
  {
   "cell_type": "code",
   "execution_count": 1389,
   "metadata": {},
   "outputs": [
    {
     "data": {
      "image/png": "[encoded data removed]",
      "text/plain": [
       "<Figure size 432x288 with 1 Axes>"
      ]
     },
     "metadata": {
      "needs_background": "light"
     },
     "output_type": "display_data"
    }
   ],
   "source": [
    "ax = df[ordinal[2]].plot(kind='hist')\n",
    "ax.set(xlabel=ordinal[2])\n",
    "plt.show()"
   ]
  },
  {
   "cell_type": "markdown",
   "metadata": {},
   "source": [
    "They can be good inputs for the baseline Naive Classifier. How do they move together? We can use a joint plot to do EDA of this behavior."
   ]
  },
  {
   "cell_type": "code",
   "execution_count": 1390,
   "metadata": {},
   "outputs": [
    {
     "data": {
      "image/png": "[encoded data removed]",
      "text/plain": [
       "<Figure size 864x504 with 3 Axes>"
      ]
     },
     "metadata": {
      "needs_background": "light"
     },
     "output_type": "display_data"
    }
   ],
   "source": [
    "sns.jointplot(continuous[0], ordinal[2], data=df, height=5, \n",
    "              ratio=3, color=\"b\").plot_joint(sns.kdeplot, zorder=0, n_levels=6)\n",
    "\n",
    "plt.gcf().set_size_inches(12, 7)\n",
    "plt.title(\"Joint distribution of Cost and Hunger\", fontsize=12)\n",
    "plt.show()"
   ]
  },
  {
   "cell_type": "markdown",
   "metadata": {
    "id": "nPo-X3PrMjch"
   },
   "source": [
    "### Clean data"
   ]
  },
  {
   "cell_type": "markdown",
   "metadata": {},
   "source": [
    "Here first of all one needs to convert Date string to the datetime object. This will be important later when we will split the data set."
   ]
  },
  {
   "cell_type": "code",
   "execution_count": 1094,
   "metadata": {},
   "outputs": [
    {
     "data": {
      "text/plain": [
       "0    1/18/2016\n",
       "1    1/24/2016\n",
       "Name: Date, dtype: object"
      ]
     },
     "execution_count": 1094,
     "metadata": {},
     "output_type": "execute_result"
    }
   ],
   "source": [
    "df.Date.head(2)"
   ]
  },
  {
   "cell_type": "code",
   "execution_count": 1391,
   "metadata": {},
   "outputs": [],
   "source": [
    "df.Date = pd.to_datetime(df.Date)"
   ]
  },
  {
   "cell_type": "code",
   "execution_count": 1392,
   "metadata": {},
   "outputs": [
    {
     "data": {
      "text/plain": [
       "0   2016-01-18\n",
       "1   2016-01-24\n",
       "Name: Date, dtype: datetime64[ns]"
      ]
     },
     "execution_count": 1392,
     "metadata": {},
     "output_type": "execute_result"
    }
   ],
   "source": [
    "df.Date.head(2)"
   ]
  },
  {
   "cell_type": "code",
   "execution_count": 1393,
   "metadata": {},
   "outputs": [],
   "source": [
    "df = df.reset_index()"
   ]
  },
  {
   "cell_type": "markdown",
   "metadata": {},
   "source": [
    "Good! Now let's check for missing data and NaNs in ordinal and interval features. Divide by total number of observations to get an idea of missing values proportion."
   ]
  },
  {
   "cell_type": "code",
   "execution_count": 1394,
   "metadata": {},
   "outputs": [
    {
     "data": {
      "text/plain": [
       "Neighborhood      0.000000\n",
       "Tortilla          0.000000\n",
       "Synergy           0.004751\n",
       "Uniformity        0.004751\n",
       "Fillings          0.007126\n",
       "Wrap              0.007126\n",
       "Hunger            0.007126\n",
       "Cost              0.016627\n",
       "Meat:filling      0.021378\n",
       "Meat              0.033254\n",
       "Temp              0.047506\n",
       "Salsa             0.059382\n",
       "Length            0.327791\n",
       "Circum            0.332542\n",
       "Volume            0.332542\n",
       "Google            0.793349\n",
       "Yelp              0.793349\n",
       "Mass (g)          0.947743\n",
       "Density (g/mL)    0.947743\n",
       "dtype: float64"
      ]
     },
     "execution_count": 1394,
     "metadata": {},
     "output_type": "execute_result"
    }
   ],
   "source": [
    "df[[categorical[2]] + ordinal + interval].isnull().sum().sort_values() / len(df)"
   ]
  },
  {
   "cell_type": "markdown",
   "metadata": {},
   "source": [
    "Below is the list of potentially good features, only around 4% or less of observations seem to be missing. This means they can be dropped or imputed. \n",
    "\n",
    "Please note, in order to avoid the notorious data leak, imputing of missing values should be done after train/test split. Dropping, on the other hand, may be done before the split.\n",
    "\n",
    "`'Neighborhood'` is an exception as it is a categorical feature and may be imputed with a catch all 'Other Neighborhood' (as we already did)."
   ]
  },
  {
   "cell_type": "code",
   "execution_count": 1395,
   "metadata": {},
   "outputs": [],
   "source": [
    "features = ['Neighborhood', 'Tortilla', 'Uniformity', 'Synergy',  'Hunger', 'Fillings', 'Wrap', \n",
    "            'Cost', 'Meat:filling', 'Meat', 'Temp', 'Salsa']"
   ]
  },
  {
   "cell_type": "markdown",
   "metadata": {},
   "source": [
    "Below is a final candidate list of seemingly promising features:"
   ]
  },
  {
   "cell_type": "code",
   "execution_count": 1396,
   "metadata": {},
   "outputs": [
    {
     "name": "stdout",
     "output_type": "stream",
     "text": [
      "<class 'pandas.core.frame.DataFrame'>\n",
      "RangeIndex: 421 entries, 0 to 420\n",
      "Data columns (total 12 columns):\n",
      " #   Column        Non-Null Count  Dtype  \n",
      "---  ------        --------------  -----  \n",
      " 0   Neighborhood  421 non-null    object \n",
      " 1   Tortilla      421 non-null    float64\n",
      " 2   Uniformity    419 non-null    float64\n",
      " 3   Synergy       419 non-null    float64\n",
      " 4   Hunger        418 non-null    float64\n",
      " 5   Fillings      418 non-null    float64\n",
      " 6   Wrap          418 non-null    float64\n",
      " 7   Cost          414 non-null    float64\n",
      " 8   Meat:filling  412 non-null    float64\n",
      " 9   Meat          407 non-null    float64\n",
      " 10  Temp          401 non-null    float64\n",
      " 11  Salsa         396 non-null    float64\n",
      "dtypes: float64(11), object(1)\n",
      "memory usage: 39.6+ KB\n"
     ]
    }
   ],
   "source": [
    "df[features].info()"
   ]
  },
  {
   "cell_type": "markdown",
   "metadata": {},
   "source": [
    "Finish cleaning by dropping erroneous and missing values."
   ]
  },
  {
   "cell_type": "code",
   "execution_count": 1101,
   "metadata": {},
   "outputs": [],
   "source": [
    "import numpy as np\n",
    "df[df[features].replace([np.inf, -np.inf], np.nan).notnull().all(axis=1)]\n",
    "cleaned_df = df[features + ['Date', 'Great']].dropna()"
   ]
  },
  {
   "cell_type": "markdown",
   "metadata": {},
   "source": [
    "Final look at the cleaned dataset."
   ]
  },
  {
   "cell_type": "code",
   "execution_count": 1399,
   "metadata": {},
   "outputs": [
    {
     "data": {
      "text/html": [
       "<div>\n",
       "<style scoped>\n",
       "    .dataframe tbody tr th:only-of-type {\n",
       "        vertical-align: middle;\n",
       "    }\n",
       "\n",
       "    .dataframe tbody tr th {\n",
       "        vertical-align: top;\n",
       "    }\n",
       "\n",
       "    .dataframe thead th {\n",
       "        text-align: right;\n",
       "    }\n",
       "</style>\n",
       "<table border=\"1\" class=\"dataframe\">\n",
       "  <thead>\n",
       "    <tr style=\"text-align: right;\">\n",
       "      <th></th>\n",
       "      <th>Neighborhood</th>\n",
       "      <th>Tortilla</th>\n",
       "      <th>Uniformity</th>\n",
       "      <th>Synergy</th>\n",
       "      <th>Hunger</th>\n",
       "      <th>Fillings</th>\n",
       "      <th>Wrap</th>\n",
       "      <th>Cost</th>\n",
       "      <th>Meat:filling</th>\n",
       "      <th>Meat</th>\n",
       "      <th>Temp</th>\n",
       "      <th>Salsa</th>\n",
       "      <th>Date</th>\n",
       "      <th>Great</th>\n",
       "    </tr>\n",
       "  </thead>\n",
       "  <tbody>\n",
       "    <tr>\n",
       "      <th>0</th>\n",
       "      <td>Miramar</td>\n",
       "      <td>3.0</td>\n",
       "      <td>4.0</td>\n",
       "      <td>4.0</td>\n",
       "      <td>3.0</td>\n",
       "      <td>3.5</td>\n",
       "      <td>4.0</td>\n",
       "      <td>6.49</td>\n",
       "      <td>4.0</td>\n",
       "      <td>3.0</td>\n",
       "      <td>5.0</td>\n",
       "      <td>4.0</td>\n",
       "      <td>2016-01-18</td>\n",
       "      <td>0</td>\n",
       "    </tr>\n",
       "    <tr>\n",
       "      <th>1</th>\n",
       "      <td>San Marcos</td>\n",
       "      <td>2.0</td>\n",
       "      <td>4.0</td>\n",
       "      <td>2.5</td>\n",
       "      <td>3.5</td>\n",
       "      <td>2.5</td>\n",
       "      <td>5.0</td>\n",
       "      <td>5.45</td>\n",
       "      <td>2.0</td>\n",
       "      <td>2.5</td>\n",
       "      <td>3.5</td>\n",
       "      <td>3.5</td>\n",
       "      <td>2016-01-24</td>\n",
       "      <td>0</td>\n",
       "    </tr>\n",
       "  </tbody>\n",
       "</table>\n",
       "</div>"
      ],
      "text/plain": [
       "  Neighborhood  Tortilla  Uniformity  Synergy  Hunger  Fillings  Wrap  Cost  \\\n",
       "0      Miramar       3.0         4.0      4.0     3.0       3.5   4.0  6.49   \n",
       "1   San Marcos       2.0         4.0      2.5     3.5       2.5   5.0  5.45   \n",
       "\n",
       "   Meat:filling  Meat  Temp  Salsa       Date  Great  \n",
       "0           4.0   3.0   5.0    4.0 2016-01-18      0  \n",
       "1           2.0   2.5   3.5    3.5 2016-01-24      0  "
      ]
     },
     "execution_count": 1399,
     "metadata": {},
     "output_type": "execute_result"
    }
   ],
   "source": [
    "cleaned_df.head(2)"
   ]
  },
  {
   "cell_type": "code",
   "execution_count": 1400,
   "metadata": {},
   "outputs": [
    {
     "name": "stdout",
     "output_type": "stream",
     "text": [
      "<class 'pandas.core.frame.DataFrame'>\n",
      "Int64Index: 356 entries, 0 to 420\n",
      "Data columns (total 14 columns):\n",
      " #   Column        Non-Null Count  Dtype         \n",
      "---  ------        --------------  -----         \n",
      " 0   Neighborhood  356 non-null    object        \n",
      " 1   Tortilla      356 non-null    float64       \n",
      " 2   Uniformity    356 non-null    float64       \n",
      " 3   Synergy       356 non-null    float64       \n",
      " 4   Hunger        356 non-null    float64       \n",
      " 5   Fillings      356 non-null    float64       \n",
      " 6   Wrap          356 non-null    float64       \n",
      " 7   Cost          356 non-null    float64       \n",
      " 8   Meat:filling  356 non-null    float64       \n",
      " 9   Meat          356 non-null    float64       \n",
      " 10  Temp          356 non-null    float64       \n",
      " 11  Salsa         356 non-null    float64       \n",
      " 12  Date          356 non-null    datetime64[ns]\n",
      " 13  Great         356 non-null    int64         \n",
      "dtypes: datetime64[ns](1), float64(11), int64(1), object(1)\n",
      "memory usage: 41.7+ KB\n"
     ]
    }
   ],
   "source": [
    "cleaned_df.info()"
   ]
  },
  {
   "cell_type": "markdown",
   "metadata": {
    "id": "V-r9VFXGNDYi"
   },
   "source": [
    "### Do train/validate/test split"
   ]
  },
  {
   "cell_type": "markdown",
   "metadata": {},
   "source": [
    "Train on reviews from 2016 & earlier (expected 250 instances). No explanatory value in the `'Date'` and don't forget to `.pop()` the target column from the training set:"
   ]
  },
  {
   "cell_type": "code",
   "execution_count": 1404,
   "metadata": {
    "id": "iCSW2gSTO7L2"
   },
   "outputs": [],
   "source": [
    "X_train = cleaned_df.loc[cleaned_df.Date < '2017']\n",
    "X_train = X_train.drop('Date', axis=1)\n",
    "y_train = X_train.pop('Great')"
   ]
  },
  {
   "cell_type": "markdown",
   "metadata": {},
   "source": [
    "Validate on 2017 (expected 74 instances):"
   ]
  },
  {
   "cell_type": "code",
   "execution_count": 1407,
   "metadata": {},
   "outputs": [],
   "source": [
    "X_validate = cleaned_df.loc[(cleaned_df.Date > '2017') & (cleaned_df.Date < '2018')].copy()\n",
    "X_validate = X_validate.drop('Date', axis=1)\n",
    "y_validate = X_validate.pop('Great')"
   ]
  },
  {
   "cell_type": "markdown",
   "metadata": {},
   "source": [
    "Test on 2018 & later (expected 32 instances):"
   ]
  },
  {
   "cell_type": "code",
   "execution_count": 1409,
   "metadata": {},
   "outputs": [],
   "source": [
    "X_test = cleaned_df.loc[cleaned_df.Date > '2018'].copy()\n",
    "X_test = X_test.drop('Date', axis=1)\n",
    "y_test = X_test.pop('Great')"
   ]
  },
  {
   "cell_type": "markdown",
   "metadata": {
    "id": "yoYlNeRGNJWK"
   },
   "source": [
    "### Determine baseline accuracy for a naïve classification model"
   ]
  },
  {
   "cell_type": "markdown",
   "metadata": {},
   "source": [
    "For a very simple or naive baseline model we can try predicting Greatness from previously discussed 2 features only, `'Cost'` and `'Hunger'`, i.e. proxies for supply/demand parameters."
   ]
  },
  {
   "cell_type": "code",
   "execution_count": 1410,
   "metadata": {},
   "outputs": [],
   "source": [
    "X_train_naive = X_train.drop(X_train.columns.difference(['Cost','Hunger']), axis=1)"
   ]
  },
  {
   "cell_type": "markdown",
   "metadata": {},
   "source": [
    "Input array is ready for model training; check if there are any missing values again as they will cause an error."
   ]
  },
  {
   "cell_type": "code",
   "execution_count": 1411,
   "metadata": {},
   "outputs": [
    {
     "data": {
      "text/plain": [
       "False"
      ]
     },
     "execution_count": 1411,
     "metadata": {},
     "output_type": "execute_result"
    }
   ],
   "source": [
    "X_train_naive.isnull().values.any()"
   ]
  },
  {
   "cell_type": "code",
   "execution_count": 1412,
   "metadata": {},
   "outputs": [
    {
     "name": "stdout",
     "output_type": "stream",
     "text": [
      "<class 'pandas.core.frame.DataFrame'>\n",
      "Int64Index: 250 entries, 0 to 297\n",
      "Data columns (total 2 columns):\n",
      " #   Column  Non-Null Count  Dtype  \n",
      "---  ------  --------------  -----  \n",
      " 0   Hunger  250 non-null    float64\n",
      " 1   Cost    250 non-null    float64\n",
      "dtypes: float64(2)\n",
      "memory usage: 5.9 KB\n"
     ]
    }
   ],
   "source": [
    "X_train_naive.info()"
   ]
  },
  {
   "cell_type": "markdown",
   "metadata": {},
   "source": [
    "Create and train classification model with `.fit()` method."
   ]
  },
  {
   "cell_type": "code",
   "execution_count": 1113,
   "metadata": {
    "id": "Ku0QDc4qssET"
   },
   "outputs": [],
   "source": [
    "from sklearn.linear_model import LogisticRegression\n",
    "\n",
    "naive_clf = LogisticRegression(random_state=123).fit(X_train_naive, y_train)"
   ]
  },
  {
   "cell_type": "markdown",
   "metadata": {},
   "source": [
    "Prepare 2017 data for validation, make sure there are no missing values there as well."
   ]
  },
  {
   "cell_type": "code",
   "execution_count": 1413,
   "metadata": {},
   "outputs": [
    {
     "name": "stdout",
     "output_type": "stream",
     "text": [
      "<class 'pandas.core.frame.DataFrame'>\n",
      "Int64Index: 74 entries, 301 to 383\n",
      "Data columns (total 2 columns):\n",
      " #   Column  Non-Null Count  Dtype  \n",
      "---  ------  --------------  -----  \n",
      " 0   Hunger  74 non-null     float64\n",
      " 1   Cost    74 non-null     float64\n",
      "dtypes: float64(2)\n",
      "memory usage: 1.7 KB\n"
     ]
    }
   ],
   "source": [
    "X_validate_naive = X_validate.drop(X_train.columns.difference(['Cost','Hunger']), axis=1)\n",
    "X_validate_naive.info()"
   ]
  },
  {
   "cell_type": "markdown",
   "metadata": {},
   "source": [
    "Use Area Under the Curve (AUC) plot to check the overall predictive poor of the model; 50% being a random chance."
   ]
  },
  {
   "cell_type": "code",
   "execution_count": 1414,
   "metadata": {},
   "outputs": [
    {
     "data": {
      "image/png": "[encoded data removed]",
      "text/plain": [
       "<Figure size 432x288 with 1 Axes>"
      ]
     },
     "metadata": {
      "needs_background": "light"
     },
     "output_type": "display_data"
    }
   ],
   "source": [
    "from sklearn.metrics import plot_roc_curve\n",
    "naive_clf_auc_ins = plot_roc_curve(naive_clf, X_validate_naive, y_validate)\n",
    "plt.grid(True)\n",
    "plt.plot([0, 1], [0, 1], c='r')\n",
    "plt.show()"
   ]
  },
  {
   "cell_type": "markdown",
   "metadata": {},
   "source": [
    "Out of sample testing on 2018 data below:"
   ]
  },
  {
   "cell_type": "code",
   "execution_count": 1415,
   "metadata": {},
   "outputs": [
    {
     "name": "stdout",
     "output_type": "stream",
     "text": [
      "<class 'pandas.core.frame.DataFrame'>\n",
      "Int64Index: 32 entries, 77 to 420\n",
      "Data columns (total 2 columns):\n",
      " #   Column  Non-Null Count  Dtype  \n",
      "---  ------  --------------  -----  \n",
      " 0   Hunger  32 non-null     float64\n",
      " 1   Cost    32 non-null     float64\n",
      "dtypes: float64(2)\n",
      "memory usage: 768.0 bytes\n"
     ]
    }
   ],
   "source": [
    "X_test_naive = X_test.drop(X_test.columns.difference(['Cost','Hunger']), axis=1)\n",
    "X_test_naive.info()"
   ]
  },
  {
   "cell_type": "code",
   "execution_count": 1416,
   "metadata": {},
   "outputs": [
    {
     "data": {
      "image/png": "[encoded data removed]",
      "text/plain": [
       "<Figure size 432x288 with 1 Axes>"
      ]
     },
     "metadata": {
      "needs_background": "light"
     },
     "output_type": "display_data"
    }
   ],
   "source": [
    "baseline_clf_auc_oos = plot_roc_curve(naive_clf, X_test_naive, y_test)\n",
    "plt.grid(True)\n",
    "plt.plot([0, 1], [0, 1], c='r')\n",
    "plt.show()"
   ]
  },
  {
   "cell_type": "markdown",
   "metadata": {},
   "source": [
    "The model is not much better then a random guess."
   ]
  },
  {
   "cell_type": "code",
   "execution_count": 1417,
   "metadata": {},
   "outputs": [
    {
     "name": "stdout",
     "output_type": "stream",
     "text": [
      "Baseline traing accuracy:  0.604\n",
      "Baseline validation accuracy:  0.5541\n",
      "Baseline oos testing accuracy:  0.5\n"
     ]
    }
   ],
   "source": [
    "from sklearn.metrics import roc_auc_score\n",
    "print('Baseline traing accuracy: ', np.round(naive_clf.score(X_train_naive, y_train), 4))\n",
    "print('Baseline validation accuracy: ', np.round(naive_clf.score(X_validate_naive, y_validate), 4))\n",
    "print('Baseline oos testing accuracy: ', np.round(naive_clf.score(X_test_naive, y_test), 4))"
   ]
  },
  {
   "cell_type": "markdown",
   "metadata": {},
   "source": [
    "We can take another stab at this by using cross validation, just to make sure that this performance is not due to a random chance."
   ]
  },
  {
   "cell_type": "code",
   "execution_count": 1418,
   "metadata": {},
   "outputs": [
    {
     "data": {
      "text/plain": [
       "0.6150641025641025"
      ]
     },
     "execution_count": 1418,
     "metadata": {},
     "output_type": "execute_result"
    }
   ],
   "source": [
    "from sklearn.model_selection import cross_val_score\n",
    "\n",
    "cross_val_score(naive_clf, X_train_naive, y_train, cv=20, scoring='accuracy').mean()"
   ]
  },
  {
   "cell_type": "markdown",
   "metadata": {},
   "source": [
    "Comparing to the null accuracy, i.e. predicting most frequent class: "
   ]
  },
  {
   "cell_type": "code",
   "execution_count": 1421,
   "metadata": {},
   "outputs": [
    {
     "data": {
      "text/plain": [
       "0    0.616\n",
       "1    0.384\n",
       "Name: Great, dtype: float64"
      ]
     },
     "execution_count": 1421,
     "metadata": {},
     "output_type": "execute_result"
    }
   ],
   "source": [
    "y_train.value_counts(normalize=True)"
   ]
  },
  {
   "cell_type": "markdown",
   "metadata": {},
   "source": [
    "The baseline naive model accuracy is truly bad, i.e. the model has no discriminative power at all - let's see if we can improve it by using sklearn pipelines and adding additional features."
   ]
  },
  {
   "cell_type": "markdown",
   "metadata": {
    "id": "3G7N-f7FNTwu"
   },
   "source": [
    "### Create a `scikit-learn` pipeline"
   ]
  },
  {
   "cell_type": "markdown",
   "metadata": {},
   "source": [
    "- A one hot encoder for categorical features.\n",
    "- A scaler for numeric features.\n",
    "- A logistic regression classifier."
   ]
  },
  {
   "cell_type": "markdown",
   "metadata": {},
   "source": [
    "This is probably the most involved part of code today. The following four objectives are achieved here:\n",
    "- First, create a placeholder for logic how to deal with various Neighborhoods as they need dummies;\n",
    "- Second, define a scaler for numeric features to make sure large values do not dominate model training;\n",
    "- Third, combine both previous logics in preprocessor functionality;\n",
    "- Fourth, define steps for preprocessing and model training in a single Pipeline."
   ]
  },
  {
   "cell_type": "code",
   "execution_count": 1294,
   "metadata": {},
   "outputs": [],
   "source": [
    "from sklearn.compose import make_column_transformer, ColumnTransformer\n",
    "from sklearn.preprocessing import OneHotEncoder, StandardScaler\n",
    "from sklearn.pipeline import make_pipeline, Pipeline\n",
    "\n",
    "\n",
    "categorical_transformer = Pipeline(steps=[('one_hot', OneHotEncoder(handle_unknown = 'ignore'))])\n",
    "\n",
    "numeric_transformer = Pipeline(steps=[('scaler', StandardScaler())])\n",
    "\n",
    "numeric_features =  ['Tortilla', 'Uniformity', 'Synergy', 'Hunger','Fillings', \n",
    "                     'Wrap', 'Cost', 'Meat:filling', 'Meat', 'Temp', 'Salsa']\n",
    "\n",
    "preprocessor = ColumnTransformer(transformers=[('num', numeric_transformer,numeric_features),\n",
    "                                               ('cat', categorical_transformer, ['Neighborhood'])])\n",
    "\n",
    "clf = Pipeline(steps=[('preprocessor', preprocessor),\n",
    "                      ('classifier', LogisticRegression(random_state=123))])"
   ]
  },
  {
   "cell_type": "markdown",
   "metadata": {
    "id": "vpzhx5iJNsGs"
   },
   "source": [
    "### Train model using training data"
   ]
  },
  {
   "cell_type": "markdown",
   "metadata": {},
   "source": [
    "Pipelines support the same interface as estimators. We can simply call `.fit()` on it."
   ]
  },
  {
   "cell_type": "code",
   "execution_count": 1422,
   "metadata": {},
   "outputs": [
    {
     "data": {
      "text/plain": [
       "Pipeline(steps=[('preprocessor',\n",
       "                 ColumnTransformer(transformers=[('num',\n",
       "                                                  Pipeline(steps=[('scaler',\n",
       "                                                                   StandardScaler())]),\n",
       "                                                  ['Tortilla', 'Uniformity',\n",
       "                                                   'Synergy', 'Hunger',\n",
       "                                                   'Fillings', 'Wrap', 'Cost',\n",
       "                                                   'Meat:filling', 'Meat',\n",
       "                                                   'Temp', 'Salsa']),\n",
       "                                                 ('cat',\n",
       "                                                  Pipeline(steps=[('one_hot',\n",
       "                                                                   OneHotEncoder(handle_unknown='ignore'))]),\n",
       "                                                  ['Neighborhood'])])),\n",
       "                ('classifier', LogisticRegression(random_state=123))])"
      ]
     },
     "execution_count": 1422,
     "metadata": {},
     "output_type": "execute_result"
    }
   ],
   "source": [
    "clf.fit(X_train, y_train)"
   ]
  },
  {
   "cell_type": "markdown",
   "metadata": {},
   "source": [
    "Quick look at the performance in training."
   ]
  },
  {
   "cell_type": "code",
   "execution_count": 1353,
   "metadata": {},
   "outputs": [
    {
     "name": "stdout",
     "output_type": "stream",
     "text": [
      "Traing model score: 0.8920\n"
     ]
    }
   ],
   "source": [
    "print(\"Traing model score: %.4f\" % clf.score(X_train, y_train))"
   ]
  },
  {
   "cell_type": "markdown",
   "metadata": {},
   "source": [
    "This is a much better classification model, as it reached top performance at False Positive Rate of around 0.4."
   ]
  },
  {
   "cell_type": "code",
   "execution_count": 1360,
   "metadata": {},
   "outputs": [
    {
     "data": {
      "image/png": "[encoded data removed]",
      "text/plain": [
       "<Figure size 432x288 with 1 Axes>"
      ]
     },
     "metadata": {
      "needs_background": "light"
     },
     "output_type": "display_data"
    }
   ],
   "source": [
    "better_clf_auc_ins = plot_roc_curve(clf, X_train, y_train)\n",
    "plt.grid(True)\n",
    "plt.plot([0, 1], [0, 1])\n",
    "plt.show()"
   ]
  },
  {
   "cell_type": "markdown",
   "metadata": {
    "id": "zaBBzwJ5N0mD"
   },
   "source": [
    "### Create visualization of model coefficients"
   ]
  },
  {
   "cell_type": "markdown",
   "metadata": {},
   "source": [
    "This is yet another involved step where we need to go 'inside' the fitted pipeline and extract automatically generated names of the dummy columns. \n",
    "\n",
    "These names can be merged with the model coefficients, otherwise nameless, and presented in a user friendly format. Note, this is possible, because names and coefficients are stored in list-like structure with preserved order.\n",
    "\n",
    "Top features that contributed positively to the Greatness of burritos are plotted after sorting."
   ]
  },
  {
   "cell_type": "code",
   "execution_count": 1350,
   "metadata": {},
   "outputs": [
    {
     "data": {
      "image/png": "[encoded data removed]",
      "text/plain": [
       "<Figure size 864x504 with 1 Axes>"
      ]
     },
     "metadata": {
      "needs_background": "light"
     },
     "output_type": "display_data"
    }
   ],
   "source": [
    "onehot_columns = list(\n",
    "    clf.named_steps['preprocessor'].named_transformers_['cat'].\n",
    "    named_steps['one_hot'].get_feature_names(input_features=['Neighborhood']))\n",
    "\n",
    "features_names = list(numeric_features)\n",
    "features_names.extend(onehot_columns)\n",
    "feature_importances = clf.named_steps['classifier'].coef_[0]\n",
    "\n",
    "coef_df = pd.DataFrame(list(zip(features_names, feature_importances)), \n",
    "                       columns =['Feature', 'Importance'],\n",
    "                      index=features_names)\n",
    "coef_df.set_index('Feature')\n",
    "coef_df.sort_values(by='Importance', axis=0, ascending=True, inplace=True)\n",
    "coef_df.loc[coef_df['Importance'] > 0.1 ].plot(kind='barh')\n",
    "plt.gcf().set_size_inches(12, 7)"
   ]
  },
  {
   "cell_type": "markdown",
   "metadata": {
    "id": "ACl7NaeROBn3"
   },
   "source": [
    "### Get model's validation accuracy"
   ]
  },
  {
   "cell_type": "markdown",
   "metadata": {},
   "source": [
    "As expected the model performs well on the unseen data."
   ]
  },
  {
   "cell_type": "code",
   "execution_count": 1354,
   "metadata": {
    "id": "PHIMBkQwut7r"
   },
   "outputs": [
    {
     "name": "stdout",
     "output_type": "stream",
     "text": [
      "Validation model score: 0.8243\n"
     ]
    }
   ],
   "source": [
    "print(\"Validation model score: %.4f\" % clf.score(X_validate, y_validate))"
   ]
  },
  {
   "cell_type": "code",
   "execution_count": 1356,
   "metadata": {},
   "outputs": [
    {
     "data": {
      "image/png": "[encoded data removed]",
      "text/plain": [
       "<Figure size 432x288 with 1 Axes>"
      ]
     },
     "metadata": {
      "needs_background": "light"
     },
     "output_type": "display_data"
    }
   ],
   "source": [
    "better_clf_auc_ins = plot_roc_curve(clf, X_validate, y_validate)\n",
    "plt.grid(True)\n",
    "plt.plot([0, 1], [0, 1])\n",
    "plt.show()"
   ]
  },
  {
   "cell_type": "markdown",
   "metadata": {
    "id": "K3xJZKOaOE1p"
   },
   "source": [
    "### Get your model's test accuracy"
   ]
  },
  {
   "cell_type": "markdown",
   "metadata": {},
   "source": [
    "Similarly, this test shows that the model has good performance when used for presumably out of sample forecasting. "
   ]
  },
  {
   "cell_type": "code",
   "execution_count": 1358,
   "metadata": {
    "id": "gJ9HEVcIxJt7"
   },
   "outputs": [
    {
     "name": "stdout",
     "output_type": "stream",
     "text": [
      "Testing model score: 0.7812\n"
     ]
    }
   ],
   "source": [
    "print(\"Testing model score: %.4f\" % clf.score(X_test, y_test))"
   ]
  },
  {
   "cell_type": "code",
   "execution_count": 1359,
   "metadata": {},
   "outputs": [
    {
     "data": {
      "image/png": "[encoded data removed]",
      "text/plain": [
       "<Figure size 432x288 with 1 Axes>"
      ]
     },
     "metadata": {
      "needs_background": "light"
     },
     "output_type": "display_data"
    }
   ],
   "source": [
    "better_clf_auc_ins = plot_roc_curve(clf, X_test, y_test)\n",
    "plt.grid(True)\n",
    "plt.plot([0, 1], [0, 1])\n",
    "plt.show()"
   ]
  },
  {
   "cell_type": "code",
   "execution_count": null,
   "metadata": {},
   "outputs": [],
   "source": []
  }
 ],
 "metadata": {
  "colab": {
   "collapsed_sections": [],
   "name": "2020-07-13_associate-instructor-technical.ipynb",
   "provenance": []
  },
  "kernelspec": {
   "display_name": "Python 3",
   "language": "python",
   "name": "python3"
  },
  "language_info": {
   "codemirror_mode": {
    "name": "ipython",
    "version": 3
   },
   "file_extension": ".py",
   "mimetype": "text/x-python",
   "name": "python",
   "nbconvert_exporter": "python",
   "pygments_lexer": "ipython3",
   "version": "3.8.3"
  }
 },
 "nbformat": 4,
 "nbformat_minor": 1
}
