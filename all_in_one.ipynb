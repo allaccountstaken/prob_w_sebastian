{
 "cells": [
  {
   "cell_type": "code",
   "execution_count": 23,
   "metadata": {},
   "outputs": [],
   "source": [
    "s = [0 , 1,xx 1, x1] # therefore, N=4"
   ]
  },
  {
   "cell_type": "code",
   "execution_count": 1,
   "metadata": {},
   "outputs": [],
   "source": [
    "xmean = 3/4"
   ]
  },
  {
   "cell_type": "code",
   "execution_count": null,
   "metadata": {},
   "outputs": [],
   "source": []
  },
  {
   "cell_type": "code",
   "execution_count": null,
   "metadata": {},
   "outputs": [],
   "source": []
  },
  {
   "cell_type": "code",
   "execution_count": 24,
   "metadata": {},
   "outputs": [],
   "source": [
    "mu = 26.97"
   ]
  },
  {
   "cell_type": "code",
   "execution_count": 26,
   "metadata": {},
   "outputs": [],
   "source": [
    "v = (4*(21-mu)**2 + 6 *(24-mu)**2 + 7*(26-mu)**2 + 11*(29-mu)**2 + 2 * (40 - mu)**2) / 30"
   ]
  },
  {
   "cell_type": "code",
   "execution_count": 27,
   "metadata": {},
   "outputs": [
    {
     "data": {
      "text/plain": [
       "19.565566666666665"
      ]
     },
     "execution_count": 27,
     "metadata": {},
     "output_type": "execute_result"
    }
   ],
   "source": [
    "v"
   ]
  },
  {
   "cell_type": "code",
   "execution_count": 28,
   "metadata": {},
   "outputs": [
    {
     "data": {
      "text/plain": [
       "1.582856920325467"
      ]
     },
     "execution_count": 28,
     "metadata": {},
     "output_type": "execute_result"
    }
   ],
   "source": [
    "1.96 * (v/30)**(1/2)"
   ]
  },
  {
   "cell_type": "code",
   "execution_count": 29,
   "metadata": {},
   "outputs": [
    {
     "data": {
      "text/plain": [
       "8"
      ]
     },
     "execution_count": 29,
     "metadata": {},
     "output_type": "execute_result"
    }
   ],
   "source": [
    "1.5\n",
    "8"
   ]
  },
  {
   "cell_type": "markdown",
   "metadata": {},
   "source": [
    "### TODO:\n",
    "1. Print the time.\n",
    "2. Make a simple stopwatch.\n",
    "2. Print a word provided by the user.\n",
    "2. Validate user input.\n",
    "2. Record and print a list.\n"
   ]
  },
  {
   "cell_type": "code",
   "execution_count": 32,
   "metadata": {},
   "outputs": [],
   "source": [
    "from datetime import datetime"
   ]
  },
  {
   "cell_type": "code",
   "execution_count": 41,
   "metadata": {},
   "outputs": [],
   "source": [
    "time = datetime.now().strftime(\"%H:%M:%S\")"
   ]
  },
  {
   "cell_type": "code",
   "execution_count": 42,
   "metadata": {},
   "outputs": [
    {
     "name": "stdout",
     "output_type": "stream",
     "text": [
      "18:45:15\n"
     ]
    }
   ],
   "source": [
    "print(time)"
   ]
  },
  {
   "cell_type": "code",
   "execution_count": 66,
   "metadata": {},
   "outputs": [
    {
     "name": "stdout",
     "output_type": "stream",
     "text": [
      "Stopwatch started at?  2021-08-13 19:59:40.820326\n"
     ]
    }
   ],
   "source": [
    "start_time = datetime.now()\n",
    "print(\"Stopwatch started at? \", start_time)"
   ]
  },
  {
   "cell_type": "code",
   "execution_count": 67,
   "metadata": {},
   "outputs": [
    {
     "name": "stdout",
     "output_type": "stream",
     "text": [
      "Press any key to stop!s\n"
     ]
    },
    {
     "data": {
      "text/plain": [
       "datetime.timedelta(seconds=2, microseconds=350246)"
      ]
     },
     "execution_count": 67,
     "metadata": {},
     "output_type": "execute_result"
    }
   ],
   "source": [
    "\n",
    "input(\"Press any key to stop!\")\n",
    "elapsted_time = datetime.now() - start_time\n",
    "print(\"Elapsed time: \" , elapsted_time)"
   ]
  },
  {
   "cell_type": "code",
   "execution_count": 68,
   "metadata": {},
   "outputs": [
    {
     "name": "stdout",
     "output_type": "stream",
     "text": [
      "Please provide the word and I will give it back to you: Word\n",
      "Is this what you just said?  Word\n"
     ]
    }
   ],
   "source": [
    "txt = input(\"Please provide the word and I will give it back to you: \")\n",
    "\n",
    "# Note that in version 3, the print() function\n",
    "# requires the use of parenthesis.\n",
    "print(\"Is this what you just said? \", txt)"
   ]
  },
  {
   "cell_type": "code",
   "execution_count": 69,
   "metadata": {},
   "outputs": [
    {
     "name": "stdout",
     "output_type": "stream",
     "text": [
      "Please provide the word and I will check if it is not a number: \n",
      "Is this what you just said?  \n"
     ]
    }
   ],
   "source": [
    "txt = input(\"Please provide the word and I will check if it is not a number: \")\n",
    "\n",
    "# Note that in version 3, the print() function\n",
    "# requires the use of parenthesis.\n",
    "print(\"Is this what you just said? \", txt)"
   ]
  },
  {
   "cell_type": "code",
   "execution_count": 70,
   "metadata": {},
   "outputs": [
    {
     "data": {
      "text/plain": [
       "1.4267632872754386"
      ]
     },
     "execution_count": 70,
     "metadata": {},
     "output_type": "execute_result"
    }
   ],
   "source": [
    "306162 / 214585"
   ]
  },
  {
   "cell_type": "code",
   "execution_count": 71,
   "metadata": {},
   "outputs": [
    {
     "data": {
      "text/plain": [
       "702.0"
      ]
     },
     "execution_count": 71,
     "metadata": {},
     "output_type": "execute_result"
    }
   ],
   "source": [
    "585 * 1.2"
   ]
  },
  {
   "cell_type": "code",
   "execution_count": 84,
   "metadata": {},
   "outputs": [],
   "source": [
    "import pandas as pd\n",
    "import matplotlib.pyplot as plt"
   ]
  },
  {
   "cell_type": "code",
   "execution_count": 85,
   "metadata": {},
   "outputs": [],
   "source": [
    "df = pd.read_csv('andre.csv')"
   ]
  },
  {
   "cell_type": "code",
   "execution_count": 86,
   "metadata": {},
   "outputs": [
    {
     "data": {
      "text/plain": [
       "(21, 30)"
      ]
     },
     "execution_count": 86,
     "metadata": {},
     "output_type": "execute_result"
    }
   ],
   "source": [
    "df.shape"
   ]
  },
  {
   "cell_type": "code",
   "execution_count": 87,
   "metadata": {},
   "outputs": [],
   "source": [
    "df = df[df.Year > 1976]"
   ]
  },
  {
   "cell_type": "code",
   "execution_count": 88,
   "metadata": {},
   "outputs": [],
   "source": [
    "df = df[df.Year < 1994]"
   ]
  },
  {
   "cell_type": "code",
   "execution_count": 89,
   "metadata": {},
   "outputs": [
    {
     "data": {
      "image/png": "[encoded data removed]",
      "text/plain": [
       "<Figure size 432x288 with 1 Axes>"
      ]
     },
     "metadata": {
      "needs_background": "light"
     },
     "output_type": "display_data"
    }
   ],
   "source": [
    "df.hist(\"H\",bins=100)\n",
    "plt.show()"
   ]
  },
  {
   "cell_type": "code",
   "execution_count": 90,
   "metadata": {},
   "outputs": [
    {
     "data": {
      "text/html": [
       "<div>\n",
       "<style scoped>\n",
       "    .dataframe tbody tr th:only-of-type {\n",
       "        vertical-align: middle;\n",
       "    }\n",
       "\n",
       "    .dataframe tbody tr th {\n",
       "        vertical-align: top;\n",
       "    }\n",
       "\n",
       "    .dataframe thead th {\n",
       "        text-align: right;\n",
       "    }\n",
       "</style>\n",
       "<table border=\"1\" class=\"dataframe\">\n",
       "  <thead>\n",
       "    <tr style=\"text-align: right;\">\n",
       "      <th></th>\n",
       "      <th>Year</th>\n",
       "      <th>Age</th>\n",
       "      <th>Tm</th>\n",
       "      <th>Lg</th>\n",
       "      <th>G</th>\n",
       "      <th>PA</th>\n",
       "      <th>AB</th>\n",
       "      <th>R</th>\n",
       "      <th>H</th>\n",
       "      <th>2B</th>\n",
       "      <th>...</th>\n",
       "      <th>OPS</th>\n",
       "      <th>OPS+</th>\n",
       "      <th>TB</th>\n",
       "      <th>GDP</th>\n",
       "      <th>HBP</th>\n",
       "      <th>SH</th>\n",
       "      <th>SF</th>\n",
       "      <th>IBB</th>\n",
       "      <th>Pos</th>\n",
       "      <th>Awards</th>\n",
       "    </tr>\n",
       "  </thead>\n",
       "  <tbody>\n",
       "    <tr>\n",
       "      <th>1</th>\n",
       "      <td>1977</td>\n",
       "      <td>22</td>\n",
       "      <td>MON</td>\n",
       "      <td>NL</td>\n",
       "      <td>139</td>\n",
       "      <td>566</td>\n",
       "      <td>525</td>\n",
       "      <td>64</td>\n",
       "      <td>148</td>\n",
       "      <td>26</td>\n",
       "      <td>...</td>\n",
       "      <td>0.800</td>\n",
       "      <td>116</td>\n",
       "      <td>249</td>\n",
       "      <td>6</td>\n",
       "      <td>2</td>\n",
       "      <td>1</td>\n",
       "      <td>4</td>\n",
       "      <td>4</td>\n",
       "      <td>*87/9</td>\n",
       "      <td>RoY-1</td>\n",
       "    </tr>\n",
       "    <tr>\n",
       "      <th>2</th>\n",
       "      <td>1978</td>\n",
       "      <td>23</td>\n",
       "      <td>MON</td>\n",
       "      <td>NL</td>\n",
       "      <td>157</td>\n",
       "      <td>660</td>\n",
       "      <td>609</td>\n",
       "      <td>84</td>\n",
       "      <td>154</td>\n",
       "      <td>24</td>\n",
       "      <td>...</td>\n",
       "      <td>0.740</td>\n",
       "      <td>107</td>\n",
       "      <td>269</td>\n",
       "      <td>7</td>\n",
       "      <td>12</td>\n",
       "      <td>4</td>\n",
       "      <td>5</td>\n",
       "      <td>3</td>\n",
       "      <td>*8</td>\n",
       "      <td>NaN</td>\n",
       "    </tr>\n",
       "    <tr>\n",
       "      <th>3</th>\n",
       "      <td>1979</td>\n",
       "      <td>24</td>\n",
       "      <td>MON</td>\n",
       "      <td>NL</td>\n",
       "      <td>155</td>\n",
       "      <td>684</td>\n",
       "      <td>639</td>\n",
       "      <td>90</td>\n",
       "      <td>176</td>\n",
       "      <td>24</td>\n",
       "      <td>...</td>\n",
       "      <td>0.777</td>\n",
       "      <td>111</td>\n",
       "      <td>299</td>\n",
       "      <td>10</td>\n",
       "      <td>6</td>\n",
       "      <td>8</td>\n",
       "      <td>4</td>\n",
       "      <td>5</td>\n",
       "      <td>*8</td>\n",
       "      <td>MVP-24</td>\n",
       "    </tr>\n",
       "    <tr>\n",
       "      <th>4</th>\n",
       "      <td>1980</td>\n",
       "      <td>25</td>\n",
       "      <td>MON</td>\n",
       "      <td>NL</td>\n",
       "      <td>151</td>\n",
       "      <td>638</td>\n",
       "      <td>577</td>\n",
       "      <td>96</td>\n",
       "      <td>178</td>\n",
       "      <td>41</td>\n",
       "      <td>...</td>\n",
       "      <td>0.850</td>\n",
       "      <td>136</td>\n",
       "      <td>284</td>\n",
       "      <td>9</td>\n",
       "      <td>6</td>\n",
       "      <td>1</td>\n",
       "      <td>10</td>\n",
       "      <td>7</td>\n",
       "      <td>*8</td>\n",
       "      <td>MVP-7GGSS</td>\n",
       "    </tr>\n",
       "    <tr>\n",
       "      <th>5</th>\n",
       "      <td>1981</td>\n",
       "      <td>26</td>\n",
       "      <td>MON</td>\n",
       "      <td>NL</td>\n",
       "      <td>103</td>\n",
       "      <td>441</td>\n",
       "      <td>394</td>\n",
       "      <td>71</td>\n",
       "      <td>119</td>\n",
       "      <td>21</td>\n",
       "      <td>...</td>\n",
       "      <td>0.918</td>\n",
       "      <td>157</td>\n",
       "      <td>218</td>\n",
       "      <td>6</td>\n",
       "      <td>7</td>\n",
       "      <td>0</td>\n",
       "      <td>5</td>\n",
       "      <td>14</td>\n",
       "      <td>*8</td>\n",
       "      <td>ASMVP-2GGSS</td>\n",
       "    </tr>\n",
       "    <tr>\n",
       "      <th>6</th>\n",
       "      <td>1982</td>\n",
       "      <td>27</td>\n",
       "      <td>MON</td>\n",
       "      <td>NL</td>\n",
       "      <td>148</td>\n",
       "      <td>660</td>\n",
       "      <td>608</td>\n",
       "      <td>107</td>\n",
       "      <td>183</td>\n",
       "      <td>37</td>\n",
       "      <td>...</td>\n",
       "      <td>0.841</td>\n",
       "      <td>132</td>\n",
       "      <td>303</td>\n",
       "      <td>8</td>\n",
       "      <td>8</td>\n",
       "      <td>4</td>\n",
       "      <td>6</td>\n",
       "      <td>4</td>\n",
       "      <td>*8</td>\n",
       "      <td>ASMVP-21GG</td>\n",
       "    </tr>\n",
       "    <tr>\n",
       "      <th>7</th>\n",
       "      <td>1983</td>\n",
       "      <td>28</td>\n",
       "      <td>MON</td>\n",
       "      <td>NL</td>\n",
       "      <td>159</td>\n",
       "      <td>698</td>\n",
       "      <td>633</td>\n",
       "      <td>104</td>\n",
       "      <td>189</td>\n",
       "      <td>36</td>\n",
       "      <td>...</td>\n",
       "      <td>0.877</td>\n",
       "      <td>141</td>\n",
       "      <td>341</td>\n",
       "      <td>14</td>\n",
       "      <td>9</td>\n",
       "      <td>0</td>\n",
       "      <td>18</td>\n",
       "      <td>12</td>\n",
       "      <td>*8</td>\n",
       "      <td>ASMVP-2GGSS</td>\n",
       "    </tr>\n",
       "    <tr>\n",
       "      <th>8</th>\n",
       "      <td>1984</td>\n",
       "      <td>29</td>\n",
       "      <td>MON</td>\n",
       "      <td>NL</td>\n",
       "      <td>138</td>\n",
       "      <td>583</td>\n",
       "      <td>533</td>\n",
       "      <td>73</td>\n",
       "      <td>132</td>\n",
       "      <td>23</td>\n",
       "      <td>...</td>\n",
       "      <td>0.710</td>\n",
       "      <td>102</td>\n",
       "      <td>218</td>\n",
       "      <td>12</td>\n",
       "      <td>2</td>\n",
       "      <td>1</td>\n",
       "      <td>6</td>\n",
       "      <td>2</td>\n",
       "      <td>*9</td>\n",
       "      <td>GG</td>\n",
       "    </tr>\n",
       "    <tr>\n",
       "      <th>9</th>\n",
       "      <td>1985</td>\n",
       "      <td>30</td>\n",
       "      <td>MON</td>\n",
       "      <td>NL</td>\n",
       "      <td>139</td>\n",
       "      <td>570</td>\n",
       "      <td>529</td>\n",
       "      <td>65</td>\n",
       "      <td>135</td>\n",
       "      <td>27</td>\n",
       "      <td>...</td>\n",
       "      <td>0.739</td>\n",
       "      <td>109</td>\n",
       "      <td>235</td>\n",
       "      <td>12</td>\n",
       "      <td>4</td>\n",
       "      <td>1</td>\n",
       "      <td>7</td>\n",
       "      <td>8</td>\n",
       "      <td>*98</td>\n",
       "      <td>GG</td>\n",
       "    </tr>\n",
       "    <tr>\n",
       "      <th>10</th>\n",
       "      <td>1986</td>\n",
       "      <td>31</td>\n",
       "      <td>MON</td>\n",
       "      <td>NL</td>\n",
       "      <td>130</td>\n",
       "      <td>546</td>\n",
       "      <td>496</td>\n",
       "      <td>65</td>\n",
       "      <td>141</td>\n",
       "      <td>32</td>\n",
       "      <td>...</td>\n",
       "      <td>0.815</td>\n",
       "      <td>123</td>\n",
       "      <td>237</td>\n",
       "      <td>13</td>\n",
       "      <td>6</td>\n",
       "      <td>1</td>\n",
       "      <td>6</td>\n",
       "      <td>11</td>\n",
       "      <td>*9</td>\n",
       "      <td>NaN</td>\n",
       "    </tr>\n",
       "    <tr>\n",
       "      <th>11</th>\n",
       "      <td>1987</td>\n",
       "      <td>32</td>\n",
       "      <td>CHC</td>\n",
       "      <td>NL</td>\n",
       "      <td>153</td>\n",
       "      <td>662</td>\n",
       "      <td>621</td>\n",
       "      <td>90</td>\n",
       "      <td>178</td>\n",
       "      <td>24</td>\n",
       "      <td>...</td>\n",
       "      <td>0.896</td>\n",
       "      <td>130</td>\n",
       "      <td>353</td>\n",
       "      <td>15</td>\n",
       "      <td>7</td>\n",
       "      <td>0</td>\n",
       "      <td>2</td>\n",
       "      <td>7</td>\n",
       "      <td>*9</td>\n",
       "      <td>ASMVP-1GGSS</td>\n",
       "    </tr>\n",
       "    <tr>\n",
       "      <th>12</th>\n",
       "      <td>1988</td>\n",
       "      <td>33</td>\n",
       "      <td>CHC</td>\n",
       "      <td>NL</td>\n",
       "      <td>157</td>\n",
       "      <td>640</td>\n",
       "      <td>591</td>\n",
       "      <td>78</td>\n",
       "      <td>179</td>\n",
       "      <td>31</td>\n",
       "      <td>...</td>\n",
       "      <td>0.849</td>\n",
       "      <td>137</td>\n",
       "      <td>298</td>\n",
       "      <td>13</td>\n",
       "      <td>4</td>\n",
       "      <td>1</td>\n",
       "      <td>7</td>\n",
       "      <td>12</td>\n",
       "      <td>*9</td>\n",
       "      <td>ASMVP-15GG</td>\n",
       "    </tr>\n",
       "    <tr>\n",
       "      <th>13</th>\n",
       "      <td>1989</td>\n",
       "      <td>34</td>\n",
       "      <td>CHC</td>\n",
       "      <td>NL</td>\n",
       "      <td>118</td>\n",
       "      <td>459</td>\n",
       "      <td>416</td>\n",
       "      <td>62</td>\n",
       "      <td>105</td>\n",
       "      <td>18</td>\n",
       "      <td>...</td>\n",
       "      <td>0.783</td>\n",
       "      <td>114</td>\n",
       "      <td>198</td>\n",
       "      <td>16</td>\n",
       "      <td>1</td>\n",
       "      <td>0</td>\n",
       "      <td>7</td>\n",
       "      <td>13</td>\n",
       "      <td>*9</td>\n",
       "      <td>AS</td>\n",
       "    </tr>\n",
       "    <tr>\n",
       "      <th>14</th>\n",
       "      <td>1990</td>\n",
       "      <td>35</td>\n",
       "      <td>CHC</td>\n",
       "      <td>NL</td>\n",
       "      <td>147</td>\n",
       "      <td>581</td>\n",
       "      <td>529</td>\n",
       "      <td>72</td>\n",
       "      <td>164</td>\n",
       "      <td>28</td>\n",
       "      <td>...</td>\n",
       "      <td>0.893</td>\n",
       "      <td>135</td>\n",
       "      <td>283</td>\n",
       "      <td>12</td>\n",
       "      <td>2</td>\n",
       "      <td>0</td>\n",
       "      <td>8</td>\n",
       "      <td>21</td>\n",
       "      <td>*9</td>\n",
       "      <td>ASMVP-19</td>\n",
       "    </tr>\n",
       "    <tr>\n",
       "      <th>15</th>\n",
       "      <td>1991</td>\n",
       "      <td>36</td>\n",
       "      <td>CHC</td>\n",
       "      <td>NL</td>\n",
       "      <td>149</td>\n",
       "      <td>596</td>\n",
       "      <td>563</td>\n",
       "      <td>69</td>\n",
       "      <td>153</td>\n",
       "      <td>21</td>\n",
       "      <td>...</td>\n",
       "      <td>0.790</td>\n",
       "      <td>116</td>\n",
       "      <td>275</td>\n",
       "      <td>10</td>\n",
       "      <td>5</td>\n",
       "      <td>0</td>\n",
       "      <td>6</td>\n",
       "      <td>3</td>\n",
       "      <td>*9</td>\n",
       "      <td>ASMVP-14</td>\n",
       "    </tr>\n",
       "    <tr>\n",
       "      <th>16</th>\n",
       "      <td>1992</td>\n",
       "      <td>37</td>\n",
       "      <td>CHC</td>\n",
       "      <td>NL</td>\n",
       "      <td>143</td>\n",
       "      <td>582</td>\n",
       "      <td>542</td>\n",
       "      <td>60</td>\n",
       "      <td>150</td>\n",
       "      <td>27</td>\n",
       "      <td>...</td>\n",
       "      <td>0.772</td>\n",
       "      <td>114</td>\n",
       "      <td>247</td>\n",
       "      <td>13</td>\n",
       "      <td>4</td>\n",
       "      <td>0</td>\n",
       "      <td>6</td>\n",
       "      <td>8</td>\n",
       "      <td>*9</td>\n",
       "      <td>NaN</td>\n",
       "    </tr>\n",
       "    <tr>\n",
       "      <th>17</th>\n",
       "      <td>1993</td>\n",
       "      <td>38</td>\n",
       "      <td>BOS</td>\n",
       "      <td>AL</td>\n",
       "      <td>121</td>\n",
       "      <td>498</td>\n",
       "      <td>461</td>\n",
       "      <td>44</td>\n",
       "      <td>126</td>\n",
       "      <td>29</td>\n",
       "      <td>...</td>\n",
       "      <td>0.738</td>\n",
       "      <td>92</td>\n",
       "      <td>196</td>\n",
       "      <td>18</td>\n",
       "      <td>13</td>\n",
       "      <td>0</td>\n",
       "      <td>7</td>\n",
       "      <td>4</td>\n",
       "      <td>D9</td>\n",
       "      <td>NaN</td>\n",
       "    </tr>\n",
       "  </tbody>\n",
       "</table>\n",
       "<p>17 rows × 30 columns</p>\n",
       "</div>"
      ],
      "text/plain": [
       "    Year  Age   Tm  Lg    G   PA   AB    R    H  2B  ...    OPS  OPS+   TB  \\\n",
       "1   1977   22  MON  NL  139  566  525   64  148  26  ...  0.800   116  249   \n",
       "2   1978   23  MON  NL  157  660  609   84  154  24  ...  0.740   107  269   \n",
       "3   1979   24  MON  NL  155  684  639   90  176  24  ...  0.777   111  299   \n",
       "4   1980   25  MON  NL  151  638  577   96  178  41  ...  0.850   136  284   \n",
       "5   1981   26  MON  NL  103  441  394   71  119  21  ...  0.918   157  218   \n",
       "6   1982   27  MON  NL  148  660  608  107  183  37  ...  0.841   132  303   \n",
       "7   1983   28  MON  NL  159  698  633  104  189  36  ...  0.877   141  341   \n",
       "8   1984   29  MON  NL  138  583  533   73  132  23  ...  0.710   102  218   \n",
       "9   1985   30  MON  NL  139  570  529   65  135  27  ...  0.739   109  235   \n",
       "10  1986   31  MON  NL  130  546  496   65  141  32  ...  0.815   123  237   \n",
       "11  1987   32  CHC  NL  153  662  621   90  178  24  ...  0.896   130  353   \n",
       "12  1988   33  CHC  NL  157  640  591   78  179  31  ...  0.849   137  298   \n",
       "13  1989   34  CHC  NL  118  459  416   62  105  18  ...  0.783   114  198   \n",
       "14  1990   35  CHC  NL  147  581  529   72  164  28  ...  0.893   135  283   \n",
       "15  1991   36  CHC  NL  149  596  563   69  153  21  ...  0.790   116  275   \n",
       "16  1992   37  CHC  NL  143  582  542   60  150  27  ...  0.772   114  247   \n",
       "17  1993   38  BOS  AL  121  498  461   44  126  29  ...  0.738    92  196   \n",
       "\n",
       "    GDP  HBP  SH  SF  IBB    Pos       Awards  \n",
       "1     6    2   1   4    4  *87/9        RoY-1  \n",
       "2     7   12   4   5    3     *8          NaN  \n",
       "3    10    6   8   4    5     *8       MVP-24  \n",
       "4     9    6   1  10    7     *8    MVP-7GGSS  \n",
       "5     6    7   0   5   14     *8  ASMVP-2GGSS  \n",
       "6     8    8   4   6    4     *8   ASMVP-21GG  \n",
       "7    14    9   0  18   12     *8  ASMVP-2GGSS  \n",
       "8    12    2   1   6    2     *9           GG  \n",
       "9    12    4   1   7    8    *98           GG  \n",
       "10   13    6   1   6   11     *9          NaN  \n",
       "11   15    7   0   2    7     *9  ASMVP-1GGSS  \n",
       "12   13    4   1   7   12     *9   ASMVP-15GG  \n",
       "13   16    1   0   7   13     *9           AS  \n",
       "14   12    2   0   8   21     *9     ASMVP-19  \n",
       "15   10    5   0   6    3     *9     ASMVP-14  \n",
       "16   13    4   0   6    8     *9          NaN  \n",
       "17   18   13   0   7    4     D9          NaN  \n",
       "\n",
       "[17 rows x 30 columns]"
      ]
     },
     "metadata": {},
     "output_type": "display_data"
    }
   ],
   "source": [
    "display(df)"
   ]
  },
  {
   "cell_type": "code",
   "execution_count": 91,
   "metadata": {},
   "outputs": [
    {
     "name": "stdout",
     "output_type": "stream",
     "text": [
      "779 ns ± 17.9 ns per loop (mean ± std. dev. of 7 runs, 1000000 loops each)\n"
     ]
    }
   ],
   "source": [
    "%timeit sum(range(100))"
   ]
  },
  {
   "cell_type": "code",
   "execution_count": 93,
   "metadata": {},
   "outputs": [
    {
     "data": {
      "text/plain": [
       "350000000"
      ]
     },
     "execution_count": 93,
     "metadata": {},
     "output_type": "execute_result"
    }
   ],
   "source": [
    "3500 * 100000 "
   ]
  },
  {
   "cell_type": "code",
   "execution_count": null,
   "metadata": {},
   "outputs": [],
   "source": []
  }
 ],
 "metadata": {
  "kernelspec": {
   "display_name": "Python 3",
   "language": "python",
   "name": "python3"
  },
  "language_info": {
   "codemirror_mode": {
    "name": "ipython",
    "version": 3
   },
   "file_extension": ".py",
   "mimetype": "text/x-python",
   "name": "python",
   "nbconvert_exporter": "python",
   "pygments_lexer": "ipython3",
   "version": "3.8.3"
  }
 },
 "nbformat": 4,
 "nbformat_minor": 4
}
